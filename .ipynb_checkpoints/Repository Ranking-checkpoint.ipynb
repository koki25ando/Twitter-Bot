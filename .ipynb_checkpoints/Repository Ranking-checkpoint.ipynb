{
 "cells": [
  {
   "cell_type": "code",
   "execution_count": 154,
   "metadata": {},
   "outputs": [
    {
     "name": "stdout",
     "output_type": "stream",
     "text": [
      "2019-3-15\n",
      "【本日の学術リポジトリアクセスランキング】\n",
      "No.1 16アクセス\n",
      "タイトル: 継続する第二波フェミニズム理論 : リベラリズムとの対抗へ / 岡野, 八代\n",
      "URL: https://doors.doshisha.ac.jp/duar/repository/ir/24755/?lang=0\n",
      "2019-3-15\n",
      "【本日の学術リポジトリアクセスランキング】\n",
      "No.2 14アクセス\n",
      "タイトル: Extensions of nonnegative matrix factorization for exploratory data analysis / Abe, Hiroyasu\n",
      "URL: https://doors.doshisha.ac.jp/duar/repository/ir/24794/?lang=0\n",
      "2019-3-15\n",
      "【本日の学術リポジトリアクセスランキング】\n",
      "No.3 11アクセス\n",
      "タイトル: 明治後期における紀行文の「進歩」とジャンルの自立性 : 小島烏水の理論と実践を中心に / 熊谷, 昭宏\n",
      "URL: https://doors.doshisha.ac.jp/duar/repository/ir/17559/?lang=0\n"
     ]
    }
   ],
   "source": [
    "import datetime\n",
    "import pandas as pd\n",
    "date = datetime.datetime.now()\n",
    "today = \"{}{}{}\".format(date.year, str(date.month).zfill(2), date.day)\n",
    "url = \"https://doors.doshisha.ac.jp/duar/repository/ir/ranking/?lang=0&kind=0&dayfrom={}&dayto=\".format(today)\n",
    "from bs4 import BeautifulSoup\n",
    "from urllib.request import urlopen as uReq\n",
    "uClient = uReq(url)\n",
    "page_html = uClient.read()\n",
    "uClient.close()\n",
    "soup = BeautifulSoup(page_html, \"html.parser\")\n",
    "title = soup.find(\"table\", {\"class\": \"tstyle wi100P\"}).findAll(\"tr\")\n",
    "# print(title[1].a.text)\n",
    "# print(title[2].a.text)\n",
    "# print(title[3].a.text)\n",
    "\n",
    "# print(title[1].a['href'].replace('../', 'https://doors.doshisha.ac.jp/duar/repository/ir/'))\n",
    "# print(title[2].a['href'].replace('../', 'https://doors.doshisha.ac.jp/duar/repository/ir/'))\n",
    "# print(title[3].a['href'].replace('../', 'https://doors.doshisha.ac.jp/duar/repository/ir/'))\n",
    "\n",
    "access = soup.find(\"table\", {\"class\": \"tstyle wi100P\"}).findAll(\"td\", {\"style\": \"text-align:right;vertical-align:middle;\"})\n",
    "# print(access[1].text.strip())\n",
    "# print(access[3].text.strip())\n",
    "# print(access[5].text.strip())\n",
    "\n",
    "for i in range(1,4):\n",
    "    msg = \"{}-{}-{}\\n【本日の学術リポジトリアクセスランキング】\\nNo.{} {}アクセス\\nタイトル: {}\\nURL: {}\".format(date.year, date.month, date.day, i, access[i*2-1].text.strip(), title[i].a.text, title[i].a['href'].replace('../', 'https://doors.doshisha.ac.jp/duar/repository/ir/'))\n",
    "    print(msg)"
   ]
  },
  {
   "cell_type": "code",
   "execution_count": null,
   "metadata": {},
   "outputs": [],
   "source": []
  }
 ],
 "metadata": {
  "kernelspec": {
   "display_name": "Python 3",
   "language": "python",
   "name": "python3"
  },
  "language_info": {
   "codemirror_mode": {
    "name": "ipython",
    "version": 3
   },
   "file_extension": ".py",
   "mimetype": "text/x-python",
   "name": "python",
   "nbconvert_exporter": "python",
   "pygments_lexer": "ipython3",
   "version": "3.6.8"
  }
 },
 "nbformat": 4,
 "nbformat_minor": 2
}
