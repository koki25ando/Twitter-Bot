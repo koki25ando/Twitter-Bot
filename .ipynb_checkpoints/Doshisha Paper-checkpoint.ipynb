{
 "cells": [
  {
   "cell_type": "code",
   "execution_count": 63,
   "metadata": {},
   "outputs": [
    {
     "name": "stdout",
     "output_type": "stream",
     "text": [
      "学位論文紹介【文化情報学研究科】\n",
      "タイトル: Extensions of nonnegative matrix factorization for exploratory data analysis \n",
      "著者: Abe, Hiroyasu\n",
      "発行年月日: 2017-03-22\n",
      "URL: https://doors.doshisha.ac.jp/duar/repository/ir/24794/?opkey=R155258574732212&idx=5\n",
      "学位論文紹介【グローバル・スタディーズ研究科】\n",
      "タイトル: Navigating the soul of the Mavi Marmara : Muslim civil society in Turkey and its transnational role in Palestine \n",
      "著者: Abu-Hajiar, Iyas Salim\n",
      "発行年月日: 2015-03-21\n",
      "URL: https://doors.doshisha.ac.jp/duar/repository/ir/17587/?opkey=R155258559831412&idx=22\n",
      "学位論文紹介【総合政策科学研究科】\n",
      "タイトル: Assessment of feed in tariff policy impacts for promoting wind and solar energy development in Japan \n",
      "著者: Al-Yaquob, Amin Hilal Ali\n",
      "発行年月日: 2016-03-21\n",
      "URL: https://doors.doshisha.ac.jp/duar/repository/ir/23037/?opkey=R155258590832324&idx=33\n",
      "学位論文紹介【グローバル・スタディーズ研究科】\n",
      "タイトル: A cautionary tale: neoliberal discourse and the pedagogic function of the mediated Lost Japan narrative during the financial crisis \n",
      "著者: Bonnah, Theodore\n",
      "発行年月日: 2016-03-21\n",
      "URL: https://doors.doshisha.ac.jp/duar/repository/ir/23041/?opkey=R155258559831412&idx=18\n",
      "学位論文紹介【文化情報学研究科】\n",
      "タイトル: A study of refusal expressions in Asian languages : a comparison of occurrences in semantic formulas and levels of closeness \n",
      "著者: Candy\n",
      "発行年月日: 2018-03-22\n",
      "URL: https://doors.doshisha.ac.jp/duar/repository/ir/26148/?opkey=R155258574732212&idx=3\n"
     ]
    }
   ],
   "source": [
    "import pandas as pd\n",
    "paper_info = pd.read_csv(\"paper_info_df.csv\")\n",
    "paper_info = paper_info.sort_values(by = ['author'])\n",
    "data_subject = paper_info.sort_values(by = ['author']).head(5)\n",
    "for i in range(5):\n",
    "    msg = \"学位論文紹介【{}】\\nタイトル: {} \\n著者: {}\\n発行年月日: {}\\nURL: {}\".format(data_subject.iloc[i, 0], data_subject.iloc[i, 1], data_subject.iloc[i, 2], data_subject.iloc[i, 3], data_subject.iloc[i, 5])\n",
    "    print(msg)"
   ]
  },
  {
   "cell_type": "code",
   "execution_count": 73,
   "metadata": {},
   "outputs": [],
   "source": [
    "paper_info.iloc[5:len(paper_info), :].to_csv(\"test.csv\")"
   ]
  },
  {
   "cell_type": "code",
   "execution_count": null,
   "metadata": {},
   "outputs": [],
   "source": []
  }
 ],
 "metadata": {
  "kernelspec": {
   "display_name": "Python 3",
   "language": "python",
   "name": "python3"
  },
  "language_info": {
   "codemirror_mode": {
    "name": "ipython",
    "version": 3
   },
   "file_extension": ".py",
   "mimetype": "text/x-python",
   "name": "python",
   "nbconvert_exporter": "python",
   "pygments_lexer": "ipython3",
   "version": "3.6.8"
  }
 },
 "nbformat": 4,
 "nbformat_minor": 2
}
